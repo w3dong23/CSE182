{
 "cells": [
  {
   "cell_type": "code",
   "execution_count": 6,
   "metadata": {},
   "outputs": [
    {
     "name": "stdout",
     "output_type": "stream",
     "text": [
      "999\n",
      "679\n"
     ]
    }
   ],
   "source": [
    "# extract all slivers\n",
    "slivers = []\n",
    "max = 0\n",
    "with open('../ccle-outputs/sliver-sequences.txt') as file:\n",
    "    for line in file:\n",
    "        seq = line.strip()\n",
    "        if len(seq) > max:\n",
    "            max = len(seq)\n",
    "        slivers.append(seq)\n",
    "\n",
    "print(max)\n",
    "print(len(slivers))"
   ]
  },
  {
   "cell_type": "code",
   "execution_count": 7,
   "metadata": {},
   "outputs": [
    {
     "name": "stdout",
     "output_type": "stream",
     "text": [
      "804\n"
     ]
    }
   ],
   "source": [
    "# find the kmer value at which repetitive sub-seqs start \n",
    "lengths = list(range(max))[::-1]\n",
    "for i in lengths:\n",
    "    temp = []\n",
    "    for seq in slivers:\n",
    "        if len(seq) >= 10:\n",
    "            temp.append(seq)\n",
    "\n",
    "    kmers = []\n",
    "    for seq in temp:\n",
    "        for j in range(len(seq) - i + 1):\n",
    "            kmers.append(seq[j:j+i])\n",
    "\n",
    "    if len(kmers) != len(set(kmers)):\n",
    "        print(i)\n",
    "        break"
   ]
  },
  {
   "cell_type": "code",
   "execution_count": 8,
   "metadata": {},
   "outputs": [],
   "source": [
    "temp_slivers = [slivers[0]]\n",
    "all_reps = {}\n",
    "for num, seq in enumerate(slivers):\n",
    "    rep_seqs = []\n",
    "    max_len = int(len(seq) / 2)\n",
    "    lengths = list(range(10, max_len+1))[::-1]\n",
    "    for i in lengths:\n",
    "        kmer_sets = int(len(seq) % i) + 1\n",
    "        for k in range(kmer_sets):\n",
    "            kmers = {}\n",
    "            for j in range(k, len(seq)-1, i):\n",
    "                kmer = seq[j:j+i]\n",
    "                if kmer in kmers.keys():\n",
    "                    kmers[seq[j:j+i]] += 1\n",
    "                else:\n",
    "                    kmers[seq[j:j+i]] = 1\n",
    "                kmers_set = list(set(kmers.values()))\n",
    "            for k, v in kmers.items():\n",
    "                if v > 1:\n",
    "                    rep_seqs.append((k,v))\n",
    "    all_reps[num] = rep_seqs\n"
   ]
  },
  {
   "cell_type": "code",
   "execution_count": 9,
   "metadata": {},
   "outputs": [],
   "source": [
    "# save file with all repetitive seqs \n",
    "with open('all_reps.tsv', 'w') as file:\n",
    "    for k,v in all_reps.items():\n",
    "        if len(v) != 0:\n",
    "            file.write(str(k) + '\\t' + str(v) + '\\n')"
   ]
  },
  {
   "cell_type": "code",
   "execution_count": 11,
   "metadata": {},
   "outputs": [
    {
     "name": "stderr",
     "output_type": "stream",
     "text": [
      "/var/folders/kp/8dmz5szd6xsbrx0qpbstvl6h0000gn/T/ipykernel_77370/233684778.py:5: SettingWithCopyWarning: \n",
      "A value is trying to be set on a copy of a slice from a DataFrame.\n",
      "Try using .loc[row_indexer,col_indexer] = value instead\n",
      "\n",
      "See the caveats in the documentation: https://pandas.pydata.org/pandas-docs/stable/user_guide/indexing.html#returning-a-view-versus-a-copy\n",
      "  sub_df['rep_seqs'] = [v for v in all_reps.values() if (len(v) != 0)]\n"
     ]
    }
   ],
   "source": [
    "import pandas as pd\n",
    "df = pd.read_csv('../ccle-outputs/final-slivers.tsv', sep='\\t')\n",
    "seqs = [k for k in all_reps.keys() if (len(all_reps[k]) != 0)]\n",
    "sub_df = df.iloc[seqs]\n",
    "sub_df['rep_seqs'] = [v for v in all_reps.values() if (len(v) != 0)]\n",
    "sub_df\n",
    "sub_df.to_csv('rep_seqs.tsv', sep='\\t')"
   ]
  },
  {
   "cell_type": "code",
   "execution_count": 16,
   "metadata": {},
   "outputs": [
    {
     "data": {
      "text/plain": [
       "8                                   (GTCGTAAAATACCGA, 3)\n",
       "10                                      (TACCGACGTAT, 4)\n",
       "12                          (GGTGTCGTAAAATACCGACGTAT, 2)\n",
       "13                                      (TGTCGTAAAAT, 2)\n",
       "14                          (GGTGTCGTAAAATACCGACGTAT, 2)\n",
       "                             ...                        \n",
       "639                                    (TGCATTCATCTC, 2)\n",
       "642                                 (CCTTTGAGCAAATCA, 2)\n",
       "649                                      (CTACTGTGTG, 2)\n",
       "663    (CCTCAATCTAGAACATCAGCTCCTCTCCGGGTCTGCAGCTGCATG...\n",
       "668                                      (CACAGCCCTG, 2)\n",
       "Name: Max Repetitive Seq, Length: 108, dtype: object"
      ]
     },
     "execution_count": 16,
     "metadata": {},
     "output_type": "execute_result"
    }
   ],
   "source": [
    "sub_reps = {}\n",
    "for k,v in all_reps.items():\n",
    "    if len(v) != 0:\n",
    "        sub_reps[k] = v\n",
    "sub_reps\n",
    "\n",
    "max_dict = {}\n",
    "for k,v in sub_reps.items():\n",
    "    max_tup_num = 0\n",
    "    max_tup = ()\n",
    "    for tup in v:\n",
    "        if tup[1] > max_tup_num:\n",
    "            max_tup_num = tup[1]\n",
    "            max_tup = tup\n",
    "    max_dict[k] = max_tup\n",
    "max_dict\n",
    "\n",
    "max_df = sub_df[['Sample', 'Chromosome Position', 'Start Position', 'End Position', 'Sequence']]\n",
    "max_df['Max Repetitive Seq'] = [v for v in max_dict.values()]\n",
    "max_df.to_csv('max_rep_seqs.tsv', sep='\\t')\n",
    "max_df['Max Repetitive Seq']"
   ]
  },
  {
   "cell_type": "code",
   "execution_count": null,
   "metadata": {},
   "outputs": [],
   "source": []
  }
 ],
 "metadata": {
  "kernelspec": {
   "display_name": "base",
   "language": "python",
   "name": "python3"
  },
  "language_info": {
   "codemirror_mode": {
    "name": "ipython",
    "version": 3
   },
   "file_extension": ".py",
   "mimetype": "text/x-python",
   "name": "python",
   "nbconvert_exporter": "python",
   "pygments_lexer": "ipython3",
   "version": "3.10.9"
  },
  "orig_nbformat": 4
 },
 "nbformat": 4,
 "nbformat_minor": 2
}
