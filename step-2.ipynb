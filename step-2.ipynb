{
 "cells": [
  {
   "cell_type": "code",
   "execution_count": null,
   "metadata": {},
   "outputs": [],
   "source": [
    "import pandas as pd \n",
    "\n",
    "cycleFileNames = ['ESO51_amplicon4_annotated_cycles.txt', 'ESO51_amplicon9_annotated_cycles.txt', 'FLO-1_amplicon3_annotated_cycles.txt']\n",
    "df = pd.DataFrame(columns=['sample', 'segment', 'chr', 'start_pos', 'end_pos'])\n",
    "for file_name in cycleFileNames:\n",
    "    sample_name = file_name.split('_')[0]\n",
    "    path = f'results/AA_outputs/{sample_name}/{sample_name}_classification/{sample_name}_annotated_cycles_files/{file_name}'\n",
    "\n",
    "    with open(path) as file:\n",
    "\n",
    "        # skip lines until cycle info \n",
    "        file.readline() # skip title \n",
    "        line = file.readline()\n",
    "        while line[0] == 'S':\n",
    "            line = file.readline()\n",
    "        \n",
    "        # find segments for cycles\n",
    "        segments = set()\n",
    "        while line:\n",
    "            sep_line = line.split(';')\n",
    "            cyclic = sep_line[3]\n",
    "            cyclic_bool = cyclic.split('=')[1]\n",
    "            if cyclic_bool == 'True':\n",
    "                cycle_segments = sep_line[-1].split('=')[1]\n",
    "                cycle_segments = cycle_segments.split(',')\n",
    "                for i in range(len(cycle_segments)):\n",
    "                    cycle_segments[i] = cycle_segments[i].strip('+-\\n')\n",
    "                for seg in cycle_segments:\n",
    "                    segments.add(seg)\n",
    "            line = file.readline()\n",
    "\n",
    "        # identify chr positions for cyclic segments \n",
    "        file.seek(0)\n",
    "        file.readline() # skip title\n",
    "        line = file.readline()\n",
    "        while line[0] == 'S':\n",
    "            sep_line = line.split('\\t')\n",
    "            if sep_line[1] in segments:\n",
    "                df.loc[len(df.index)] = [sample_name, sep_line[1], sep_line[2], sep_line[3], sep_line[4].strip()]\n",
    "            line = file.readline()\n",
    "        \n",
    "display(df)"
   ]
  }
 ],
 "metadata": {
  "language_info": {
   "name": "python"
  },
  "orig_nbformat": 4
 },
 "nbformat": 4,
 "nbformat_minor": 2
}
